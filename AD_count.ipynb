{
 "cells": [
  {
   "cell_type": "code",
   "execution_count": 1,
   "metadata": {},
   "outputs": [],
   "source": [
    "%matplotlib inline"
   ]
  },
  {
   "cell_type": "code",
   "execution_count": 9,
   "metadata": {},
   "outputs": [],
   "source": [
    "import numpy as np\n",
    "import matplotlib.pyplot as plt\n",
    "import pandas as pd\n",
    "from tqdm import tqdm"
   ]
  },
  {
   "cell_type": "code",
   "execution_count": 6,
   "metadata": {},
   "outputs": [],
   "source": [
    "push_csv_path = '/Users/andreaberti/Documents/work/DBT/labels_push.csv'\n",
    "valid_csv_path = '/Users/andreaberti/Documents/work/DBT/labels_valid.csv'\n",
    "test_csv_path = '/Users/andreaberti/Documents/work/DBT/labels_test.csv'\n",
    "AD_csv_path = '/Users/andreaberti/Documents/work/DBT/DBT_TCIA/BCS-DBT_boxes-train-v2.csv'"
   ]
  },
  {
   "cell_type": "code",
   "execution_count": 7,
   "metadata": {},
   "outputs": [],
   "source": [
    "push_df = pd.read_csv(push_csv_path)\n",
    "valid_df = pd.read_csv(valid_csv_path)\n",
    "test_df = pd.read_csv(test_csv_path)\n",
    "AD_df = pd.read_csv(AD_csv_path)"
   ]
  },
  {
   "cell_type": "code",
   "execution_count": 14,
   "metadata": {},
   "outputs": [
    {
     "data": {
      "text/html": [
       "<div>\n",
       "<style scoped>\n",
       "    .dataframe tbody tr th:only-of-type {\n",
       "        vertical-align: middle;\n",
       "    }\n",
       "\n",
       "    .dataframe tbody tr th {\n",
       "        vertical-align: top;\n",
       "    }\n",
       "\n",
       "    .dataframe thead th {\n",
       "        text-align: right;\n",
       "    }\n",
       "</style>\n",
       "<table border=\"1\" class=\"dataframe\">\n",
       "  <thead>\n",
       "    <tr style=\"text-align: right;\">\n",
       "      <th></th>\n",
       "      <th>PatientID</th>\n",
       "      <th>StudyUID</th>\n",
       "      <th>View</th>\n",
       "      <th>Subject</th>\n",
       "      <th>Slice</th>\n",
       "      <th>X</th>\n",
       "      <th>Y</th>\n",
       "      <th>Width</th>\n",
       "      <th>Height</th>\n",
       "      <th>Class</th>\n",
       "      <th>AD</th>\n",
       "      <th>VolumeSlices</th>\n",
       "    </tr>\n",
       "  </thead>\n",
       "  <tbody>\n",
       "    <tr>\n",
       "      <th>0</th>\n",
       "      <td>DBT-P00013</td>\n",
       "      <td>DBT-S00163</td>\n",
       "      <td>rmlo</td>\n",
       "      <td>0</td>\n",
       "      <td>16</td>\n",
       "      <td>1116</td>\n",
       "      <td>1724</td>\n",
       "      <td>218</td>\n",
       "      <td>105</td>\n",
       "      <td>benign</td>\n",
       "      <td>0</td>\n",
       "      <td>49</td>\n",
       "    </tr>\n",
       "    <tr>\n",
       "      <th>1</th>\n",
       "      <td>DBT-P00024</td>\n",
       "      <td>DBT-S03255</td>\n",
       "      <td>lcc</td>\n",
       "      <td>0</td>\n",
       "      <td>19</td>\n",
       "      <td>267</td>\n",
       "      <td>488</td>\n",
       "      <td>64</td>\n",
       "      <td>64</td>\n",
       "      <td>benign</td>\n",
       "      <td>0</td>\n",
       "      <td>73</td>\n",
       "    </tr>\n",
       "    <tr>\n",
       "      <th>2</th>\n",
       "      <td>DBT-P00024</td>\n",
       "      <td>DBT-S03255</td>\n",
       "      <td>lcc</td>\n",
       "      <td>0</td>\n",
       "      <td>37</td>\n",
       "      <td>169</td>\n",
       "      <td>384</td>\n",
       "      <td>93</td>\n",
       "      <td>85</td>\n",
       "      <td>benign</td>\n",
       "      <td>0</td>\n",
       "      <td>73</td>\n",
       "    </tr>\n",
       "    <tr>\n",
       "      <th>3</th>\n",
       "      <td>DBT-P00024</td>\n",
       "      <td>DBT-S03255</td>\n",
       "      <td>lmlo</td>\n",
       "      <td>0</td>\n",
       "      <td>11</td>\n",
       "      <td>471</td>\n",
       "      <td>1060</td>\n",
       "      <td>67</td>\n",
       "      <td>56</td>\n",
       "      <td>benign</td>\n",
       "      <td>0</td>\n",
       "      <td>81</td>\n",
       "    </tr>\n",
       "    <tr>\n",
       "      <th>4</th>\n",
       "      <td>DBT-P00024</td>\n",
       "      <td>DBT-S03255</td>\n",
       "      <td>lmlo</td>\n",
       "      <td>0</td>\n",
       "      <td>12</td>\n",
       "      <td>640</td>\n",
       "      <td>673</td>\n",
       "      <td>93</td>\n",
       "      <td>80</td>\n",
       "      <td>benign</td>\n",
       "      <td>0</td>\n",
       "      <td>81</td>\n",
       "    </tr>\n",
       "    <tr>\n",
       "      <th>...</th>\n",
       "      <td>...</td>\n",
       "      <td>...</td>\n",
       "      <td>...</td>\n",
       "      <td>...</td>\n",
       "      <td>...</td>\n",
       "      <td>...</td>\n",
       "      <td>...</td>\n",
       "      <td>...</td>\n",
       "      <td>...</td>\n",
       "      <td>...</td>\n",
       "      <td>...</td>\n",
       "      <td>...</td>\n",
       "    </tr>\n",
       "    <tr>\n",
       "      <th>219</th>\n",
       "      <td>DBT-P05030</td>\n",
       "      <td>DBT-S05569</td>\n",
       "      <td>rmlo</td>\n",
       "      <td>2</td>\n",
       "      <td>24</td>\n",
       "      <td>1465</td>\n",
       "      <td>624</td>\n",
       "      <td>84</td>\n",
       "      <td>115</td>\n",
       "      <td>cancer</td>\n",
       "      <td>0</td>\n",
       "      <td>74</td>\n",
       "    </tr>\n",
       "    <tr>\n",
       "      <th>220</th>\n",
       "      <td>DBT-P05047</td>\n",
       "      <td>DBT-S05588</td>\n",
       "      <td>rcc</td>\n",
       "      <td>0</td>\n",
       "      <td>41</td>\n",
       "      <td>1341</td>\n",
       "      <td>1073</td>\n",
       "      <td>387</td>\n",
       "      <td>499</td>\n",
       "      <td>benign</td>\n",
       "      <td>1</td>\n",
       "      <td>78</td>\n",
       "    </tr>\n",
       "    <tr>\n",
       "      <th>221</th>\n",
       "      <td>DBT-P05047</td>\n",
       "      <td>DBT-S05588</td>\n",
       "      <td>rmlo</td>\n",
       "      <td>0</td>\n",
       "      <td>41</td>\n",
       "      <td>1192</td>\n",
       "      <td>1019</td>\n",
       "      <td>456</td>\n",
       "      <td>541</td>\n",
       "      <td>benign</td>\n",
       "      <td>1</td>\n",
       "      <td>76</td>\n",
       "    </tr>\n",
       "    <tr>\n",
       "      <th>222</th>\n",
       "      <td>DBT-P05056</td>\n",
       "      <td>DBT-S01839</td>\n",
       "      <td>rcc</td>\n",
       "      <td>0</td>\n",
       "      <td>44</td>\n",
       "      <td>1642</td>\n",
       "      <td>661</td>\n",
       "      <td>245</td>\n",
       "      <td>392</td>\n",
       "      <td>cancer</td>\n",
       "      <td>1</td>\n",
       "      <td>72</td>\n",
       "    </tr>\n",
       "    <tr>\n",
       "      <th>223</th>\n",
       "      <td>DBT-P05056</td>\n",
       "      <td>DBT-S01839</td>\n",
       "      <td>rmlo</td>\n",
       "      <td>0</td>\n",
       "      <td>22</td>\n",
       "      <td>1167</td>\n",
       "      <td>499</td>\n",
       "      <td>439</td>\n",
       "      <td>315</td>\n",
       "      <td>cancer</td>\n",
       "      <td>1</td>\n",
       "      <td>65</td>\n",
       "    </tr>\n",
       "  </tbody>\n",
       "</table>\n",
       "<p>224 rows × 12 columns</p>\n",
       "</div>"
      ],
      "text/plain": [
       "      PatientID    StudyUID  View  Subject  Slice     X     Y  Width  Height  \\\n",
       "0    DBT-P00013  DBT-S00163  rmlo        0     16  1116  1724    218     105   \n",
       "1    DBT-P00024  DBT-S03255   lcc        0     19   267   488     64      64   \n",
       "2    DBT-P00024  DBT-S03255   lcc        0     37   169   384     93      85   \n",
       "3    DBT-P00024  DBT-S03255  lmlo        0     11   471  1060     67      56   \n",
       "4    DBT-P00024  DBT-S03255  lmlo        0     12   640   673     93      80   \n",
       "..          ...         ...   ...      ...    ...   ...   ...    ...     ...   \n",
       "219  DBT-P05030  DBT-S05569  rmlo        2     24  1465   624     84     115   \n",
       "220  DBT-P05047  DBT-S05588   rcc        0     41  1341  1073    387     499   \n",
       "221  DBT-P05047  DBT-S05588  rmlo        0     41  1192  1019    456     541   \n",
       "222  DBT-P05056  DBT-S01839   rcc        0     44  1642   661    245     392   \n",
       "223  DBT-P05056  DBT-S01839  rmlo        0     22  1167   499    439     315   \n",
       "\n",
       "      Class  AD  VolumeSlices  \n",
       "0    benign   0            49  \n",
       "1    benign   0            73  \n",
       "2    benign   0            73  \n",
       "3    benign   0            81  \n",
       "4    benign   0            81  \n",
       "..      ...  ..           ...  \n",
       "219  cancer   0            74  \n",
       "220  benign   1            78  \n",
       "221  benign   1            76  \n",
       "222  cancer   1            72  \n",
       "223  cancer   1            65  \n",
       "\n",
       "[224 rows x 12 columns]"
      ]
     },
     "execution_count": 14,
     "metadata": {},
     "output_type": "execute_result"
    }
   ],
   "source": [
    "AD_df"
   ]
  },
  {
   "cell_type": "code",
   "execution_count": 25,
   "metadata": {},
   "outputs": [
    {
     "data": {
      "text/html": [
       "<div>\n",
       "<style scoped>\n",
       "    .dataframe tbody tr th:only-of-type {\n",
       "        vertical-align: middle;\n",
       "    }\n",
       "\n",
       "    .dataframe tbody tr th {\n",
       "        vertical-align: top;\n",
       "    }\n",
       "\n",
       "    .dataframe thead th {\n",
       "        text-align: right;\n",
       "    }\n",
       "</style>\n",
       "<table border=\"1\" class=\"dataframe\">\n",
       "  <thead>\n",
       "    <tr style=\"text-align: right;\">\n",
       "      <th></th>\n",
       "      <th>file_name</th>\n",
       "      <th>label</th>\n",
       "    </tr>\n",
       "  </thead>\n",
       "  <tbody>\n",
       "    <tr>\n",
       "      <th>0</th>\n",
       "      <td>benign/DBT-P00013_DBT-S00163_rmlo_mass0.png</td>\n",
       "      <td>benign</td>\n",
       "    </tr>\n",
       "    <tr>\n",
       "      <th>1</th>\n",
       "      <td>benign/DBT-P00024_DBT-S03255_lcc_mass0.png</td>\n",
       "      <td>benign</td>\n",
       "    </tr>\n",
       "    <tr>\n",
       "      <th>2</th>\n",
       "      <td>benign/DBT-P00024_DBT-S03255_lcc_mass1.png</td>\n",
       "      <td>benign</td>\n",
       "    </tr>\n",
       "    <tr>\n",
       "      <th>3</th>\n",
       "      <td>benign/DBT-P00024_DBT-S03255_lmlo_mass0.png</td>\n",
       "      <td>benign</td>\n",
       "    </tr>\n",
       "    <tr>\n",
       "      <th>4</th>\n",
       "      <td>benign/DBT-P00024_DBT-S03255_lmlo_mass1.png</td>\n",
       "      <td>benign</td>\n",
       "    </tr>\n",
       "    <tr>\n",
       "      <th>...</th>\n",
       "      <td>...</td>\n",
       "      <td>...</td>\n",
       "    </tr>\n",
       "    <tr>\n",
       "      <th>137</th>\n",
       "      <td>cancer/DBT-P04901_DBT-S05032_rmlo_mass0.png</td>\n",
       "      <td>cancer</td>\n",
       "    </tr>\n",
       "    <tr>\n",
       "      <th>138</th>\n",
       "      <td>cancer/DBT-P05014_DBT-S04931_rcc_mass0.png</td>\n",
       "      <td>cancer</td>\n",
       "    </tr>\n",
       "    <tr>\n",
       "      <th>139</th>\n",
       "      <td>cancer/DBT-P05014_DBT-S04931_rmlo_mass0.png</td>\n",
       "      <td>cancer</td>\n",
       "    </tr>\n",
       "    <tr>\n",
       "      <th>140</th>\n",
       "      <td>cancer/DBT-P05056_DBT-S01839_rcc_mass0.png</td>\n",
       "      <td>cancer</td>\n",
       "    </tr>\n",
       "    <tr>\n",
       "      <th>141</th>\n",
       "      <td>cancer/DBT-P05056_DBT-S01839_rmlo_mass0.png</td>\n",
       "      <td>cancer</td>\n",
       "    </tr>\n",
       "  </tbody>\n",
       "</table>\n",
       "<p>142 rows × 2 columns</p>\n",
       "</div>"
      ],
      "text/plain": [
       "                                       file_name   label\n",
       "0    benign/DBT-P00013_DBT-S00163_rmlo_mass0.png  benign\n",
       "1     benign/DBT-P00024_DBT-S03255_lcc_mass0.png  benign\n",
       "2     benign/DBT-P00024_DBT-S03255_lcc_mass1.png  benign\n",
       "3    benign/DBT-P00024_DBT-S03255_lmlo_mass0.png  benign\n",
       "4    benign/DBT-P00024_DBT-S03255_lmlo_mass1.png  benign\n",
       "..                                           ...     ...\n",
       "137  cancer/DBT-P04901_DBT-S05032_rmlo_mass0.png  cancer\n",
       "138   cancer/DBT-P05014_DBT-S04931_rcc_mass0.png  cancer\n",
       "139  cancer/DBT-P05014_DBT-S04931_rmlo_mass0.png  cancer\n",
       "140   cancer/DBT-P05056_DBT-S01839_rcc_mass0.png  cancer\n",
       "141  cancer/DBT-P05056_DBT-S01839_rmlo_mass0.png  cancer\n",
       "\n",
       "[142 rows x 2 columns]"
      ]
     },
     "execution_count": 25,
     "metadata": {},
     "output_type": "execute_result"
    }
   ],
   "source": [
    "push_df"
   ]
  },
  {
   "cell_type": "code",
   "execution_count": 32,
   "metadata": {},
   "outputs": [
    {
     "name": "stderr",
     "output_type": "stream",
     "text": [
      "100%|██████████| 142/142 [00:00<00:00, 3354.12it/s]\n"
     ]
    }
   ],
   "source": [
    "count_ad_push = 0\n",
    "count_ad_push_benign = 0\n",
    "name_cleaned_old = ''\n",
    "\n",
    "for idx, row in tqdm(push_df.iterrows(), total=len(push_df.index)):\n",
    "    file_name = row['file_name']\n",
    "    label = row['label']\n",
    "    _, name = file_name.split(\"/\")\n",
    "    patient_id, study_uid, view, mass_nr = name.split(\"_\")\n",
    "    name_cleaned = f'{patient_id}_{study_uid}_{view}'\n",
    "    if name_cleaned == name_cleaned_old:\n",
    "        name_cleaned_old = name_cleaned\n",
    "        pass\n",
    "    else:\n",
    "        sliced_df = AD_df.loc[(AD_df['PatientID'] == patient_id) & (AD_df['StudyUID'] == study_uid) & (AD_df['View'] == view)]\n",
    "        somma = sliced_df['AD'].sum()\n",
    "        #print(f'{name_cleaned}: {somma}')\n",
    "        count_ad_push += somma\n",
    "        if label == 'benign':\n",
    "            count_ad_push_benign += somma\n",
    "        name_cleaned_old = name_cleaned\n",
    "    # if idx == 40:\n",
    "    #     break\n",
    "    \n"
   ]
  },
  {
   "cell_type": "code",
   "execution_count": 33,
   "metadata": {},
   "outputs": [
    {
     "name": "stdout",
     "output_type": "stream",
     "text": [
      "53\n",
      "34\n"
     ]
    }
   ],
   "source": [
    "print(count_ad_push)\n",
    "print(count_ad_push_benign)"
   ]
  },
  {
   "cell_type": "code",
   "execution_count": 34,
   "metadata": {},
   "outputs": [
    {
     "data": {
      "text/plain": [
       "142"
      ]
     },
     "execution_count": 34,
     "metadata": {},
     "output_type": "execute_result"
    }
   ],
   "source": [
    "len(push_df.index)"
   ]
  },
  {
   "cell_type": "code",
   "execution_count": 35,
   "metadata": {},
   "outputs": [
    {
     "name": "stderr",
     "output_type": "stream",
     "text": [
      "100%|██████████| 36/36 [00:00<00:00, 2032.89it/s]\n"
     ]
    }
   ],
   "source": [
    "count_ad_valid = 0\n",
    "count_ad_valid_benign = 0\n",
    "name_cleaned_old = ''\n",
    "\n",
    "for idx, row in tqdm(valid_df.iterrows(), total=len(valid_df.index)):\n",
    "    file_name = row['file_name']\n",
    "    label = row['label']\n",
    "    _, name = file_name.split(\"/\")\n",
    "    patient_id, study_uid, view, mass_nr = name.split(\"_\")\n",
    "    name_cleaned = f'{patient_id}_{study_uid}_{view}'\n",
    "    if name_cleaned == name_cleaned_old:\n",
    "        name_cleaned_old = name_cleaned\n",
    "        pass\n",
    "    else:\n",
    "        sliced_df = AD_df.loc[(AD_df['PatientID'] == patient_id) & (AD_df['StudyUID'] == study_uid) & (AD_df['View'] == view)]\n",
    "        somma = sliced_df['AD'].sum()\n",
    "        #print(f'{name_cleaned}: {somma}')\n",
    "        count_ad_valid += somma\n",
    "        if label == 'benign':\n",
    "            count_ad_valid_benign += somma\n",
    "        name_cleaned_old = name_cleaned\n",
    "    # if idx == 40:\n",
    "    #     break\n",
    "    \n"
   ]
  },
  {
   "cell_type": "code",
   "execution_count": 36,
   "metadata": {},
   "outputs": [
    {
     "name": "stdout",
     "output_type": "stream",
     "text": [
      "12\n",
      "8\n"
     ]
    }
   ],
   "source": [
    "print(count_ad_valid)\n",
    "print(count_ad_valid_benign)"
   ]
  },
  {
   "cell_type": "code",
   "execution_count": 37,
   "metadata": {},
   "outputs": [
    {
     "data": {
      "text/plain": [
       "36"
      ]
     },
     "execution_count": 37,
     "metadata": {},
     "output_type": "execute_result"
    }
   ],
   "source": [
    "len(valid_df.index)"
   ]
  },
  {
   "cell_type": "code",
   "execution_count": 38,
   "metadata": {},
   "outputs": [
    {
     "name": "stderr",
     "output_type": "stream",
     "text": [
      "100%|██████████| 46/46 [00:00<00:00, 2767.92it/s]\n"
     ]
    }
   ],
   "source": [
    "count_ad_test = 0\n",
    "count_ad_test_benign = 0\n",
    "name_cleaned_old = ''\n",
    "\n",
    "for idx, row in tqdm(test_df.iterrows(), total=len(test_df.index)):\n",
    "    file_name = row['file_name']\n",
    "    label = row['label']\n",
    "    _, name = file_name.split(\"/\")\n",
    "    patient_id, study_uid, view, mass_nr = name.split(\"_\")\n",
    "    name_cleaned = f'{patient_id}_{study_uid}_{view}'\n",
    "    if name_cleaned == name_cleaned_old:\n",
    "        name_cleaned_old = name_cleaned\n",
    "        pass\n",
    "    else:\n",
    "        sliced_df = AD_df.loc[(AD_df['PatientID'] == patient_id) & (AD_df['StudyUID'] == study_uid) & (AD_df['View'] == view)]\n",
    "        somma = sliced_df['AD'].sum()\n",
    "        #print(f'{name_cleaned}: {somma}')\n",
    "        count_ad_test += somma\n",
    "        if label == 'benign':\n",
    "            count_ad_test_benign += somma\n",
    "        name_cleaned_old = name_cleaned\n",
    "    # if idx == 40:\n",
    "    #     break\n",
    "    \n"
   ]
  },
  {
   "cell_type": "code",
   "execution_count": 39,
   "metadata": {},
   "outputs": [
    {
     "name": "stdout",
     "output_type": "stream",
     "text": [
      "12\n",
      "10\n"
     ]
    }
   ],
   "source": [
    "print(count_ad_test)\n",
    "print(count_ad_test_benign)"
   ]
  },
  {
   "cell_type": "code",
   "execution_count": 41,
   "metadata": {},
   "outputs": [
    {
     "data": {
      "text/plain": [
       "46"
      ]
     },
     "execution_count": 41,
     "metadata": {},
     "output_type": "execute_result"
    }
   ],
   "source": [
    "len(test_df.index)"
   ]
  },
  {
   "cell_type": "code",
   "execution_count": null,
   "metadata": {},
   "outputs": [],
   "source": []
  }
 ],
 "metadata": {
  "kernelspec": {
   "display_name": "DBT_dataset",
   "language": "python",
   "name": "python3"
  },
  "language_info": {
   "codemirror_mode": {
    "name": "ipython",
    "version": 3
   },
   "file_extension": ".py",
   "mimetype": "text/x-python",
   "name": "python",
   "nbconvert_exporter": "python",
   "pygments_lexer": "ipython3",
   "version": "3.9.16"
  },
  "orig_nbformat": 4
 },
 "nbformat": 4,
 "nbformat_minor": 2
}
