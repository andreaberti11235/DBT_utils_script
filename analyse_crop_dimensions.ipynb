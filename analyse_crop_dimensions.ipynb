{
 "cells": [
  {
   "cell_type": "code",
   "execution_count": 1,
   "metadata": {},
   "outputs": [],
   "source": [
    "import os\n",
    "import numpy as np\n",
    "import pandas as pd\n",
    "from matplotlib import pyplot as plt"
   ]
  },
  {
   "cell_type": "code",
   "execution_count": 2,
   "metadata": {},
   "outputs": [],
   "source": [
    "df = pd.read_csv('/Users/andreaberti/Documents/work/DBT/DBT_TCIA/BCS-DBT_boxes-train-v2.csv')"
   ]
  },
  {
   "cell_type": "code",
   "execution_count": 4,
   "metadata": {},
   "outputs": [
    {
     "data": {
      "text/html": [
       "<div>\n",
       "<style scoped>\n",
       "    .dataframe tbody tr th:only-of-type {\n",
       "        vertical-align: middle;\n",
       "    }\n",
       "\n",
       "    .dataframe tbody tr th {\n",
       "        vertical-align: top;\n",
       "    }\n",
       "\n",
       "    .dataframe thead th {\n",
       "        text-align: right;\n",
       "    }\n",
       "</style>\n",
       "<table border=\"1\" class=\"dataframe\">\n",
       "  <thead>\n",
       "    <tr style=\"text-align: right;\">\n",
       "      <th></th>\n",
       "      <th>PatientID</th>\n",
       "      <th>StudyUID</th>\n",
       "      <th>View</th>\n",
       "      <th>Subject</th>\n",
       "      <th>Slice</th>\n",
       "      <th>X</th>\n",
       "      <th>Y</th>\n",
       "      <th>Width</th>\n",
       "      <th>Height</th>\n",
       "      <th>Class</th>\n",
       "      <th>AD</th>\n",
       "      <th>VolumeSlices</th>\n",
       "    </tr>\n",
       "  </thead>\n",
       "  <tbody>\n",
       "    <tr>\n",
       "      <th>0</th>\n",
       "      <td>DBT-P00013</td>\n",
       "      <td>DBT-S00163</td>\n",
       "      <td>rmlo</td>\n",
       "      <td>0</td>\n",
       "      <td>16</td>\n",
       "      <td>1116</td>\n",
       "      <td>1724</td>\n",
       "      <td>218</td>\n",
       "      <td>105</td>\n",
       "      <td>benign</td>\n",
       "      <td>0</td>\n",
       "      <td>49</td>\n",
       "    </tr>\n",
       "    <tr>\n",
       "      <th>1</th>\n",
       "      <td>DBT-P00024</td>\n",
       "      <td>DBT-S03255</td>\n",
       "      <td>lcc</td>\n",
       "      <td>0</td>\n",
       "      <td>19</td>\n",
       "      <td>267</td>\n",
       "      <td>488</td>\n",
       "      <td>64</td>\n",
       "      <td>64</td>\n",
       "      <td>benign</td>\n",
       "      <td>0</td>\n",
       "      <td>73</td>\n",
       "    </tr>\n",
       "    <tr>\n",
       "      <th>2</th>\n",
       "      <td>DBT-P00024</td>\n",
       "      <td>DBT-S03255</td>\n",
       "      <td>lcc</td>\n",
       "      <td>0</td>\n",
       "      <td>37</td>\n",
       "      <td>169</td>\n",
       "      <td>384</td>\n",
       "      <td>93</td>\n",
       "      <td>85</td>\n",
       "      <td>benign</td>\n",
       "      <td>0</td>\n",
       "      <td>73</td>\n",
       "    </tr>\n",
       "    <tr>\n",
       "      <th>3</th>\n",
       "      <td>DBT-P00024</td>\n",
       "      <td>DBT-S03255</td>\n",
       "      <td>lmlo</td>\n",
       "      <td>0</td>\n",
       "      <td>11</td>\n",
       "      <td>471</td>\n",
       "      <td>1060</td>\n",
       "      <td>67</td>\n",
       "      <td>56</td>\n",
       "      <td>benign</td>\n",
       "      <td>0</td>\n",
       "      <td>81</td>\n",
       "    </tr>\n",
       "    <tr>\n",
       "      <th>4</th>\n",
       "      <td>DBT-P00024</td>\n",
       "      <td>DBT-S03255</td>\n",
       "      <td>lmlo</td>\n",
       "      <td>0</td>\n",
       "      <td>12</td>\n",
       "      <td>640</td>\n",
       "      <td>673</td>\n",
       "      <td>93</td>\n",
       "      <td>80</td>\n",
       "      <td>benign</td>\n",
       "      <td>0</td>\n",
       "      <td>81</td>\n",
       "    </tr>\n",
       "    <tr>\n",
       "      <th>...</th>\n",
       "      <td>...</td>\n",
       "      <td>...</td>\n",
       "      <td>...</td>\n",
       "      <td>...</td>\n",
       "      <td>...</td>\n",
       "      <td>...</td>\n",
       "      <td>...</td>\n",
       "      <td>...</td>\n",
       "      <td>...</td>\n",
       "      <td>...</td>\n",
       "      <td>...</td>\n",
       "      <td>...</td>\n",
       "    </tr>\n",
       "    <tr>\n",
       "      <th>219</th>\n",
       "      <td>DBT-P05030</td>\n",
       "      <td>DBT-S05569</td>\n",
       "      <td>rmlo</td>\n",
       "      <td>2</td>\n",
       "      <td>24</td>\n",
       "      <td>1465</td>\n",
       "      <td>624</td>\n",
       "      <td>84</td>\n",
       "      <td>115</td>\n",
       "      <td>cancer</td>\n",
       "      <td>0</td>\n",
       "      <td>74</td>\n",
       "    </tr>\n",
       "    <tr>\n",
       "      <th>220</th>\n",
       "      <td>DBT-P05047</td>\n",
       "      <td>DBT-S05588</td>\n",
       "      <td>rcc</td>\n",
       "      <td>0</td>\n",
       "      <td>41</td>\n",
       "      <td>1341</td>\n",
       "      <td>1073</td>\n",
       "      <td>387</td>\n",
       "      <td>499</td>\n",
       "      <td>benign</td>\n",
       "      <td>1</td>\n",
       "      <td>78</td>\n",
       "    </tr>\n",
       "    <tr>\n",
       "      <th>221</th>\n",
       "      <td>DBT-P05047</td>\n",
       "      <td>DBT-S05588</td>\n",
       "      <td>rmlo</td>\n",
       "      <td>0</td>\n",
       "      <td>41</td>\n",
       "      <td>1192</td>\n",
       "      <td>1019</td>\n",
       "      <td>456</td>\n",
       "      <td>541</td>\n",
       "      <td>benign</td>\n",
       "      <td>1</td>\n",
       "      <td>76</td>\n",
       "    </tr>\n",
       "    <tr>\n",
       "      <th>222</th>\n",
       "      <td>DBT-P05056</td>\n",
       "      <td>DBT-S01839</td>\n",
       "      <td>rcc</td>\n",
       "      <td>0</td>\n",
       "      <td>44</td>\n",
       "      <td>1642</td>\n",
       "      <td>661</td>\n",
       "      <td>245</td>\n",
       "      <td>392</td>\n",
       "      <td>cancer</td>\n",
       "      <td>1</td>\n",
       "      <td>72</td>\n",
       "    </tr>\n",
       "    <tr>\n",
       "      <th>223</th>\n",
       "      <td>DBT-P05056</td>\n",
       "      <td>DBT-S01839</td>\n",
       "      <td>rmlo</td>\n",
       "      <td>0</td>\n",
       "      <td>22</td>\n",
       "      <td>1167</td>\n",
       "      <td>499</td>\n",
       "      <td>439</td>\n",
       "      <td>315</td>\n",
       "      <td>cancer</td>\n",
       "      <td>1</td>\n",
       "      <td>65</td>\n",
       "    </tr>\n",
       "  </tbody>\n",
       "</table>\n",
       "<p>224 rows × 12 columns</p>\n",
       "</div>"
      ],
      "text/plain": [
       "      PatientID    StudyUID  View  Subject  Slice     X     Y  Width  Height  \\\n",
       "0    DBT-P00013  DBT-S00163  rmlo        0     16  1116  1724    218     105   \n",
       "1    DBT-P00024  DBT-S03255   lcc        0     19   267   488     64      64   \n",
       "2    DBT-P00024  DBT-S03255   lcc        0     37   169   384     93      85   \n",
       "3    DBT-P00024  DBT-S03255  lmlo        0     11   471  1060     67      56   \n",
       "4    DBT-P00024  DBT-S03255  lmlo        0     12   640   673     93      80   \n",
       "..          ...         ...   ...      ...    ...   ...   ...    ...     ...   \n",
       "219  DBT-P05030  DBT-S05569  rmlo        2     24  1465   624     84     115   \n",
       "220  DBT-P05047  DBT-S05588   rcc        0     41  1341  1073    387     499   \n",
       "221  DBT-P05047  DBT-S05588  rmlo        0     41  1192  1019    456     541   \n",
       "222  DBT-P05056  DBT-S01839   rcc        0     44  1642   661    245     392   \n",
       "223  DBT-P05056  DBT-S01839  rmlo        0     22  1167   499    439     315   \n",
       "\n",
       "      Class  AD  VolumeSlices  \n",
       "0    benign   0            49  \n",
       "1    benign   0            73  \n",
       "2    benign   0            73  \n",
       "3    benign   0            81  \n",
       "4    benign   0            81  \n",
       "..      ...  ..           ...  \n",
       "219  cancer   0            74  \n",
       "220  benign   1            78  \n",
       "221  benign   1            76  \n",
       "222  cancer   1            72  \n",
       "223  cancer   1            65  \n",
       "\n",
       "[224 rows x 12 columns]"
      ]
     },
     "execution_count": 4,
     "metadata": {},
     "output_type": "execute_result"
    }
   ],
   "source": [
    "df"
   ]
  },
  {
   "attachments": {},
   "cell_type": "markdown",
   "metadata": {},
   "source": [
    "# Analysis of the x-y dimentions of the masses"
   ]
  },
  {
   "cell_type": "code",
   "execution_count": 17,
   "metadata": {},
   "outputs": [],
   "source": [
    "width = df['Width']\n",
    "height = df['Height']\n",
    "max_dim = np.maximum(width, height)"
   ]
  },
  {
   "cell_type": "code",
   "execution_count": 18,
   "metadata": {},
   "outputs": [],
   "source": [
    "threshold = 224\n",
    "width_lt_224 = width[width < threshold]\n",
    "height_lt_224 = height[height < threshold]\n",
    "max_dim_lt_224 = max_dim[max_dim < threshold]"
   ]
  },
  {
   "cell_type": "code",
   "execution_count": 23,
   "metadata": {},
   "outputs": [
    {
     "name": "stdout",
     "output_type": "stream",
     "text": [
      "The number of masses is 224\n",
      "********************\n",
      "The number of masses with WIDTH smaller than 224 is 118\n",
      "********************\n",
      "The number of masses with HEIGHT smaller than 224 is 125\n",
      "********************\n",
      "The number of masses with MAX DIMENTION smaller than 224 is 98 (square crop)\n"
     ]
    }
   ],
   "source": [
    "print(f'The number of masses is {np.size(max_dim)}')\n",
    "print(20*'*')\n",
    "print(f'The number of masses with WIDTH smaller than {threshold} is {np.size(width_lt_224)}')\n",
    "print(20*'*')\n",
    "print(f'The number of masses with HEIGHT smaller than {threshold} is {np.size(height_lt_224)}')\n",
    "print(20*'*')\n",
    "print(f'The number of masses with MAX DIMENTION smaller than {threshold} is {np.size(max_dim_lt_224)} (square crop)')\n"
   ]
  },
  {
   "cell_type": "code",
   "execution_count": 70,
   "metadata": {},
   "outputs": [],
   "source": [
    "def plot_hist(arr, title_arg, threshold=224, edge_min=54, edge_max=800, step=10):\n",
    "    n = plt.hist(arr, bins=np.arange(edge_min, edge_max+1, step=step))\n",
    "    plt.vlines(x=threshold, ymin=0, ymax=np.amax(n[0]), colors='r')\n",
    "    plt.title(f'Distribution of {title_arg}')"
   ]
  },
  {
   "cell_type": "code",
   "execution_count": 89,
   "metadata": {},
   "outputs": [],
   "source": [
    "def plot_hist_num(arr, title_arg, threshold=224, edge_min=54, edge_max=800, step=10):\n",
    "    counts, edges, bars =  plt.hist(arr, bins=np.arange(edge_min, edge_max+1, step=step))\n",
    "    plt.bar_label(bars)\n",
    "    plt.vlines(x=threshold, ymin=0, ymax=np.amax(counts), colors='r')\n",
    "    plt.title(f'Distribution of {title_arg}')"
   ]
  },
  {
   "cell_type": "code",
   "execution_count": 71,
   "metadata": {},
   "outputs": [
    {
     "data": {
      "image/png": "[encoded data removed]",
      "text/plain": [
       "<Figure size 432x288 with 1 Axes>"
      ]
     },
     "metadata": {
      "needs_background": "light"
     },
     "output_type": "display_data"
    }
   ],
   "source": [
    "plot_hist(width, title_arg='Width')"
   ]
  },
  {
   "cell_type": "code",
   "execution_count": 48,
   "metadata": {},
   "outputs": [
    {
     "data": {
      "image/png": "[encoded data removed]",
      "text/plain": [
       "<Figure size 432x288 with 1 Axes>"
      ]
     },
     "metadata": {
      "needs_background": "light"
     },
     "output_type": "display_data"
    }
   ],
   "source": [
    "plot_hist(height, title_arg='Height')"
   ]
  },
  {
   "cell_type": "code",
   "execution_count": 49,
   "metadata": {},
   "outputs": [
    {
     "data": {
      "image/png": "[encoded data removed]",
      "text/plain": [
       "<Figure size 432x288 with 1 Axes>"
      ]
     },
     "metadata": {
      "needs_background": "light"
     },
     "output_type": "display_data"
    }
   ],
   "source": [
    "plot_hist(max_dim, title_arg='Max Dimention')"
   ]
  },
  {
   "cell_type": "code",
   "execution_count": 58,
   "metadata": {},
   "outputs": [
    {
     "data": {
      "text/plain": [
       "Text(0.5, 1.0, 'Distribution of difference between the two dimentions')"
      ]
     },
     "execution_count": 58,
     "metadata": {},
     "output_type": "execute_result"
    },
    {
     "data": {
      "image/png": "[encoded data removed]",
      "text/plain": [
       "<Figure size 432x288 with 1 Axes>"
      ]
     },
     "metadata": {
      "needs_background": "light"
     },
     "output_type": "display_data"
    }
   ],
   "source": [
    "dim_diff = np.abs(width - height)\n",
    "plt.hist(dim_diff, bins=np.arange(0, np.amax(dim_diff)+10, 10))\n",
    "plt.title('Distribution of difference between the two dimentions')"
   ]
  },
  {
   "cell_type": "code",
   "execution_count": 65,
   "metadata": {},
   "outputs": [
    {
     "data": {
      "text/plain": [
       "Text(0.5, 1.0, 'Distribution of aspect ratios of masses')"
      ]
     },
     "execution_count": 65,
     "metadata": {},
     "output_type": "execute_result"
    },
    {
     "data": {
      "image/png": "[encoded data removed]",
      "text/plain": [
       "<Figure size 432x288 with 1 Axes>"
      ]
     },
     "metadata": {
      "needs_background": "light"
     },
     "output_type": "display_data"
    }
   ],
   "source": [
    "aspect_ratio = width / height\n",
    "counts, edges, bars = plt.hist(aspect_ratio, bins=np.arange(0.3, np.amax(aspect_ratio) + 0.2, step=0.2))\n",
    "plt.bar_label(bars)\n",
    "plt.title('Distribution of aspect ratios of masses')"
   ]
  },
  {
   "cell_type": "code",
   "execution_count": 73,
   "metadata": {},
   "outputs": [
    {
     "data": {
      "text/plain": [
       "Text(0.5, 1.0, 'Distribution of the difference between the two dimentions\\nover the min dimention')"
      ]
     },
     "execution_count": 73,
     "metadata": {},
     "output_type": "execute_result"
    },
    {
     "data": {
      "image/png": "[encoded data removed]",
      "text/plain": [
       "<Figure size 432x288 with 1 Axes>"
      ]
     },
     "metadata": {
      "needs_background": "light"
     },
     "output_type": "display_data"
    }
   ],
   "source": [
    "diff_over_min = dim_diff / np.minimum(width, height)\n",
    "counts, edges, bars = plt.hist(diff_over_min)\n",
    "plt.bar_label(bars)\n",
    "plt.title('Distribution of the difference between the two dimentions\\nover the min dimention')"
   ]
  },
  {
   "attachments": {},
   "cell_type": "markdown",
   "metadata": {},
   "source": [
    "# Analisis of the number of slices of the masses"
   ]
  },
  {
   "cell_type": "code",
   "execution_count": 3,
   "metadata": {},
   "outputs": [],
   "source": [
    "depth = df['VolumeSlices'] / 4\n",
    "depth_benign = df[df['Class'] == 'benign']['VolumeSlices'] / 4\n",
    "depth_cancer = df[df['Class'] == 'cancer']['VolumeSlices'] /4"
   ]
  },
  {
   "cell_type": "code",
   "execution_count": 91,
   "metadata": {},
   "outputs": [
    {
     "data": {
      "text/plain": [
       "Text(0.5, 1.0, 'Distribution of number of slices')"
      ]
     },
     "execution_count": 91,
     "metadata": {},
     "output_type": "execute_result"
    },
    {
     "data": {
      "image/png": "[encoded data removed]",
      "text/plain": [
       "<Figure size 432x288 with 1 Axes>"
      ]
     },
     "metadata": {
      "needs_background": "light"
     },
     "output_type": "display_data"
    }
   ],
   "source": [
    "counts, edges, bars = plt.hist(depth)\n",
    "plt.bar_label(bars)\n",
    "plt.title('Distribution of number of slices')"
   ]
  },
  {
   "cell_type": "code",
   "execution_count": 92,
   "metadata": {},
   "outputs": [
    {
     "data": {
      "text/plain": [
       "Text(0.5, 1.0, 'Distribution of number of slices\\nbenign masses')"
      ]
     },
     "execution_count": 92,
     "metadata": {},
     "output_type": "execute_result"
    },
    {
     "data": {
      "image/png": "[encoded data removed]",
      "text/plain": [
       "<Figure size 432x288 with 1 Axes>"
      ]
     },
     "metadata": {
      "needs_background": "light"
     },
     "output_type": "display_data"
    }
   ],
   "source": [
    "counts, edges, bars = plt.hist(depth_benign)\n",
    "plt.bar_label(bars)\n",
    "plt.title('Distribution of number of slices\\nbenign masses')"
   ]
  },
  {
   "cell_type": "code",
   "execution_count": 93,
   "metadata": {},
   "outputs": [
    {
     "data": {
      "text/plain": [
       "Text(0.5, 1.0, 'Distribution of number of slices\\nmalignant masses')"
      ]
     },
     "execution_count": 93,
     "metadata": {},
     "output_type": "execute_result"
    },
    {
     "data": {
      "image/png": "[encoded data removed]",
      "text/plain": [
       "<Figure size 432x288 with 1 Axes>"
      ]
     },
     "metadata": {
      "needs_background": "light"
     },
     "output_type": "display_data"
    }
   ],
   "source": [
    "counts, edges, bars = plt.hist(depth_cancer)\n",
    "plt.bar_label(bars)\n",
    "plt.title('Distribution of number of slices\\nmalignant masses')"
   ]
  },
  {
   "cell_type": "code",
   "execution_count": 94,
   "metadata": {},
   "outputs": [
    {
     "data": {
      "text/plain": [
       "6.0"
      ]
     },
     "execution_count": 94,
     "metadata": {},
     "output_type": "execute_result"
    }
   ],
   "source": [
    "np.amin(depth_cancer)"
   ]
  },
  {
   "cell_type": "code",
   "execution_count": 5,
   "metadata": {},
   "outputs": [
    {
     "data": {
      "text/html": [
       "<div>\n",
       "<style scoped>\n",
       "    .dataframe tbody tr th:only-of-type {\n",
       "        vertical-align: middle;\n",
       "    }\n",
       "\n",
       "    .dataframe tbody tr th {\n",
       "        vertical-align: top;\n",
       "    }\n",
       "\n",
       "    .dataframe thead th {\n",
       "        text-align: right;\n",
       "    }\n",
       "</style>\n",
       "<table border=\"1\" class=\"dataframe\">\n",
       "  <thead>\n",
       "    <tr style=\"text-align: right;\">\n",
       "      <th></th>\n",
       "      <th>PatientID</th>\n",
       "      <th>StudyUID</th>\n",
       "      <th>View</th>\n",
       "      <th>Subject</th>\n",
       "      <th>Slice</th>\n",
       "      <th>X</th>\n",
       "      <th>Y</th>\n",
       "      <th>Width</th>\n",
       "      <th>Height</th>\n",
       "      <th>Class</th>\n",
       "      <th>AD</th>\n",
       "      <th>VolumeSlices</th>\n",
       "    </tr>\n",
       "  </thead>\n",
       "  <tbody>\n",
       "    <tr>\n",
       "      <th>64</th>\n",
       "      <td>DBT-P01493</td>\n",
       "      <td>DBT-S00432</td>\n",
       "      <td>rcc</td>\n",
       "      <td>0</td>\n",
       "      <td>7</td>\n",
       "      <td>1707</td>\n",
       "      <td>570</td>\n",
       "      <td>178</td>\n",
       "      <td>131</td>\n",
       "      <td>cancer</td>\n",
       "      <td>0</td>\n",
       "      <td>24</td>\n",
       "    </tr>\n",
       "  </tbody>\n",
       "</table>\n",
       "</div>"
      ],
      "text/plain": [
       "     PatientID    StudyUID View  Subject  Slice     X    Y  Width  Height  \\\n",
       "64  DBT-P01493  DBT-S00432  rcc        0      7  1707  570    178     131   \n",
       "\n",
       "     Class  AD  VolumeSlices  \n",
       "64  cancer   0            24  "
      ]
     },
     "execution_count": 5,
     "metadata": {},
     "output_type": "execute_result"
    }
   ],
   "source": [
    "df[df['VolumeSlices'] == np.amin(depth_cancer) * 4]"
   ]
  },
  {
   "cell_type": "code",
   "execution_count": null,
   "metadata": {},
   "outputs": [],
   "source": []
  }
 ],
 "metadata": {
  "kernelspec": {
   "display_name": "DBT_dataset1",
   "language": "python",
   "name": "python3"
  },
  "language_info": {
   "codemirror_mode": {
    "name": "ipython",
    "version": 3
   },
   "file_extension": ".py",
   "mimetype": "text/x-python",
   "name": "python",
   "nbconvert_exporter": "python",
   "pygments_lexer": "ipython3",
   "version": "3.9.16"
  },
  "orig_nbformat": 4
 },
 "nbformat": 4,
 "nbformat_minor": 2
}
